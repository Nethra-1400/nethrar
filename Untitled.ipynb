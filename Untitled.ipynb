{
 "cells": [
  {
   "cell_type": "code",
   "execution_count": 1,
   "metadata": {},
   "outputs": [
    {
     "name": "stderr",
     "output_type": "stream",
     "text": [
      "C:\\Users\\sys\\Anaconda3\\lib\\site-packages\\sklearn\\externals\\joblib\\__init__.py:15: DeprecationWarning: sklearn.externals.joblib is deprecated in 0.21 and will be removed in 0.23. Please import this functionality directly from joblib, which can be installed with: pip install joblib. If this warning is raised when loading pickled models, you may need to re-serialize those models with scikit-learn 0.21+.\n",
      "  warnings.warn(msg, category=DeprecationWarning)\n"
     ]
    }
   ],
   "source": []
  },
  {
   "cell_type": "code",
   "execution_count": 2,
   "metadata": {},
   "outputs": [
    {
     "name": "stdout",
     "output_type": "stream",
     "text": [
      "Collecting streamlit\n",
      "  Using cached https://files.pythonhosted.org/packages/19/59/ac66b8613d3652d6a0ade25055c448698e7c65baa82e69094f99721b138e/streamlit-0.75.0-py2.py3-none-any.whl\n",
      "Requirement already satisfied: numpy in c:\\users\\sys\\anaconda3\\lib\\site-packages (from streamlit) (1.16.4)\n",
      "Requirement already satisfied: blinker in c:\\users\\sys\\anaconda3\\lib\\site-packages (from streamlit) (1.4)\n",
      "Requirement already satisfied: tzlocal in c:\\users\\sys\\anaconda3\\lib\\site-packages (from streamlit) (2.1)\n",
      "Collecting base58 (from streamlit)\n",
      "  Using cached https://files.pythonhosted.org/packages/b8/a1/d9f565e9910c09fd325dc638765e8843a19fa696275c16cc08cf3b0a3c25/base58-2.1.0-py3-none-any.whl\n",
      "Collecting altair>=3.2.0 (from streamlit)\n",
      "  Using cached https://files.pythonhosted.org/packages/01/55/0bb2226e34f21fa549c3f4557b4f154a5632f61132a969da17c95ca8eab9/altair-4.1.0-py3-none-any.whl\n",
      "Collecting toml (from streamlit)\n",
      "  Using cached https://files.pythonhosted.org/packages/44/6f/7120676b6d73228c96e17f1f794d8ab046fc910d781c8d151120c3f1569e/toml-0.10.2-py2.py3-none-any.whl\n",
      "Requirement already satisfied: astor in c:\\users\\sys\\anaconda3\\lib\\site-packages (from streamlit) (0.8.0)\n",
      "Requirement already satisfied: pandas>=0.21.0 in c:\\users\\sys\\anaconda3\\lib\\site-packages (from streamlit) (0.24.2)\n",
      "Requirement already satisfied: click>=7.0 in c:\\users\\sys\\anaconda3\\lib\\site-packages (from streamlit) (7.0)\n",
      "Requirement already satisfied: tornado>=5.0 in c:\\users\\sys\\anaconda3\\lib\\site-packages (from streamlit) (6.0.3)\n",
      "Collecting validators (from streamlit)\n",
      "  Using cached https://files.pythonhosted.org/packages/db/2f/7fed3ee94ad665ad2c1de87f858f10a7785251ff75b4fd47987888d07ef1/validators-0.18.2-py3-none-any.whl\n",
      "Requirement already satisfied: watchdog; platform_system != \"Darwin\" in c:\\users\\sys\\anaconda3\\lib\\site-packages (from streamlit) (0.10.2)\n",
      "Collecting pyarrow; python_version < \"3.9\" (from streamlit)\n",
      "  Using cached https://files.pythonhosted.org/packages/0f/cb/e6127433edaa4d7b82eefa5524fd4ebe9813d0674784af765483634022bc/pyarrow-3.0.0-cp37-cp37m-win_amd64.whl\n",
      "Requirement already satisfied: pillow>=6.2.0 in c:\\users\\sys\\anaconda3\\lib\\site-packages (from streamlit) (8.1.0)\n",
      "Requirement already satisfied: packaging in c:\\users\\sys\\anaconda3\\lib\\site-packages (from streamlit) (19.0)\n",
      "Requirement already satisfied: protobuf!=3.11,>=3.6.0 in c:\\users\\sys\\anaconda3\\lib\\site-packages (from streamlit) (3.8.0)\n",
      "Requirement already satisfied: gitpython in c:\\users\\sys\\anaconda3\\lib\\site-packages (from streamlit) (3.1.12)\n",
      "Requirement already satisfied: python-dateutil in c:\\users\\sys\\anaconda3\\lib\\site-packages (from streamlit) (2.8.0)\n",
      "Requirement already satisfied: requests in c:\\users\\sys\\anaconda3\\lib\\site-packages (from streamlit) (2.22.0)\n",
      "Collecting pydeck>=0.1.dev5 (from streamlit)\n",
      "  Using cached https://files.pythonhosted.org/packages/9e/9d/8fbf1f56cc5891e6c3295bf94fc176e9ab0a3ffdd090cc8b354ac2640f9a/pydeck-0.5.0-py2.py3-none-any.whl\n",
      "Collecting cachetools>=4.0 (from streamlit)\n",
      "  Using cached https://files.pythonhosted.org/packages/bb/72/8df2e0dc991f1a1d2c6869404e7622e8ee50d80bff357dbb57c3df70305b/cachetools-4.2.1-py3-none-any.whl\n",
      "Requirement already satisfied: pytz in c:\\users\\sys\\anaconda3\\lib\\site-packages (from tzlocal->streamlit) (2019.1)\n",
      "Requirement already satisfied: entrypoints in c:\\users\\sys\\anaconda3\\lib\\site-packages (from altair>=3.2.0->streamlit) (0.3)\n",
      "Requirement already satisfied: toolz in c:\\users\\sys\\anaconda3\\lib\\site-packages (from altair>=3.2.0->streamlit) (0.10.0)\n",
      "Requirement already satisfied: jinja2 in c:\\users\\sys\\anaconda3\\lib\\site-packages (from altair>=3.2.0->streamlit) (2.10.1)\n",
      "Requirement already satisfied: jsonschema in c:\\users\\sys\\anaconda3\\lib\\site-packages (from altair>=3.2.0->streamlit) (3.0.1)\n",
      "Requirement already satisfied: decorator>=3.4.0 in c:\\users\\sys\\anaconda3\\lib\\site-packages (from validators->streamlit) (4.4.0)\n",
      "Requirement already satisfied: six>=1.4.0 in c:\\users\\sys\\anaconda3\\lib\\site-packages (from validators->streamlit) (1.12.0)\n",
      "Requirement already satisfied: pathtools>=0.1.1 in c:\\users\\sys\\anaconda3\\lib\\site-packages (from watchdog; platform_system != \"Darwin\"->streamlit) (0.1.2)\n",
      "Requirement already satisfied: pyparsing>=2.0.2 in c:\\users\\sys\\anaconda3\\lib\\site-packages (from packaging->streamlit) (2.4.0)\n",
      "Requirement already satisfied: setuptools in c:\\users\\sys\\anaconda3\\lib\\site-packages (from protobuf!=3.11,>=3.6.0->streamlit) (41.0.1)\n",
      "Requirement already satisfied: gitdb<5,>=4.0.1 in c:\\users\\sys\\anaconda3\\lib\\site-packages (from gitpython->streamlit) (4.0.5)\n",
      "Requirement already satisfied: urllib3!=1.25.0,!=1.25.1,<1.26,>=1.21.1 in c:\\users\\sys\\anaconda3\\lib\\site-packages (from requests->streamlit) (1.24.2)\n",
      "Requirement already satisfied: chardet<3.1.0,>=3.0.2 in c:\\users\\sys\\anaconda3\\lib\\site-packages (from requests->streamlit) (3.0.4)\n",
      "Requirement already satisfied: certifi>=2017.4.17 in c:\\users\\sys\\anaconda3\\lib\\site-packages (from requests->streamlit) (2020.6.20)\n",
      "Requirement already satisfied: idna<2.9,>=2.5 in c:\\users\\sys\\anaconda3\\lib\\site-packages (from requests->streamlit) (2.8)\n",
      "Requirement already satisfied: ipywidgets>=7.0.0 in c:\\users\\sys\\anaconda3\\lib\\site-packages (from pydeck>=0.1.dev5->streamlit) (7.5.0)\n",
      "Requirement already satisfied: traitlets>=4.3.2 in c:\\users\\sys\\anaconda3\\lib\\site-packages (from pydeck>=0.1.dev5->streamlit) (4.3.2)\n",
      "Requirement already satisfied: ipykernel>=5.1.2; python_version >= \"3.4\" in c:\\users\\sys\\anaconda3\\lib\\site-packages (from pydeck>=0.1.dev5->streamlit) (5.1.4)\n",
      "Requirement already satisfied: MarkupSafe>=0.23 in c:\\users\\sys\\anaconda3\\lib\\site-packages (from jinja2->altair>=3.2.0->streamlit) (1.1.1)\n",
      "Requirement already satisfied: attrs>=17.4.0 in c:\\users\\sys\\anaconda3\\lib\\site-packages (from jsonschema->altair>=3.2.0->streamlit) (19.1.0)\n",
      "Requirement already satisfied: pyrsistent>=0.14.0 in c:\\users\\sys\\anaconda3\\lib\\site-packages (from jsonschema->altair>=3.2.0->streamlit) (0.14.11)\n",
      "Requirement already satisfied: smmap<4,>=3.0.1 in c:\\users\\sys\\anaconda3\\lib\\site-packages (from gitdb<5,>=4.0.1->gitpython->streamlit) (3.0.5)\n",
      "Requirement already satisfied: widgetsnbextension~=3.5.0 in c:\\users\\sys\\anaconda3\\lib\\site-packages (from ipywidgets>=7.0.0->pydeck>=0.1.dev5->streamlit) (3.5.0)\n",
      "Requirement already satisfied: nbformat>=4.2.0 in c:\\users\\sys\\anaconda3\\lib\\site-packages (from ipywidgets>=7.0.0->pydeck>=0.1.dev5->streamlit) (4.4.0)\n",
      "Requirement already satisfied: ipython>=4.0.0; python_version >= \"3.3\" in c:\\users\\sys\\anaconda3\\lib\\site-packages (from ipywidgets>=7.0.0->pydeck>=0.1.dev5->streamlit) (7.6.1)\n",
      "Requirement already satisfied: ipython-genutils in c:\\users\\sys\\anaconda3\\lib\\site-packages (from traitlets>=4.3.2->pydeck>=0.1.dev5->streamlit) (0.2.0)\n",
      "Requirement already satisfied: jupyter-client in c:\\users\\sys\\anaconda3\\lib\\site-packages (from ipykernel>=5.1.2; python_version >= \"3.4\"->pydeck>=0.1.dev5->streamlit) (6.1.3)\n",
      "Requirement already satisfied: notebook>=4.4.1 in c:\\users\\sys\\anaconda3\\lib\\site-packages (from widgetsnbextension~=3.5.0->ipywidgets>=7.0.0->pydeck>=0.1.dev5->streamlit) (6.0.0)\n",
      "Requirement already satisfied: jupyter-core in c:\\users\\sys\\anaconda3\\lib\\site-packages (from nbformat>=4.2.0->ipywidgets>=7.0.0->pydeck>=0.1.dev5->streamlit) (4.6.3)\n",
      "Requirement already satisfied: colorama; sys_platform == \"win32\" in c:\\users\\sys\\anaconda3\\lib\\site-packages (from ipython>=4.0.0; python_version >= \"3.3\"->ipywidgets>=7.0.0->pydeck>=0.1.dev5->streamlit) (0.4.1)\n",
      "Requirement already satisfied: jedi>=0.10 in c:\\users\\sys\\anaconda3\\lib\\site-packages (from ipython>=4.0.0; python_version >= \"3.3\"->ipywidgets>=7.0.0->pydeck>=0.1.dev5->streamlit) (0.15.2)\n",
      "Requirement already satisfied: pygments in c:\\users\\sys\\anaconda3\\lib\\site-packages (from ipython>=4.0.0; python_version >= \"3.3\"->ipywidgets>=7.0.0->pydeck>=0.1.dev5->streamlit) (2.4.2)\n",
      "Requirement already satisfied: backcall in c:\\users\\sys\\anaconda3\\lib\\site-packages (from ipython>=4.0.0; python_version >= \"3.3\"->ipywidgets>=7.0.0->pydeck>=0.1.dev5->streamlit) (0.1.0)\n",
      "Requirement already satisfied: prompt-toolkit<2.1.0,>=2.0.0 in c:\\users\\sys\\anaconda3\\lib\\site-packages (from ipython>=4.0.0; python_version >= \"3.3\"->ipywidgets>=7.0.0->pydeck>=0.1.dev5->streamlit) (2.0.9)\n",
      "Requirement already satisfied: pickleshare in c:\\users\\sys\\anaconda3\\lib\\site-packages (from ipython>=4.0.0; python_version >= \"3.3\"->ipywidgets>=7.0.0->pydeck>=0.1.dev5->streamlit) (0.7.5)\n",
      "Requirement already satisfied: pyzmq>=13 in c:\\users\\sys\\anaconda3\\lib\\site-packages (from jupyter-client->ipykernel>=5.1.2; python_version >= \"3.4\"->pydeck>=0.1.dev5->streamlit) (18.0.0)\n",
      "Requirement already satisfied: prometheus-client in c:\\users\\sys\\anaconda3\\lib\\site-packages (from notebook>=4.4.1->widgetsnbextension~=3.5.0->ipywidgets>=7.0.0->pydeck>=0.1.dev5->streamlit) (0.7.1)\n",
      "Requirement already satisfied: nbconvert in c:\\users\\sys\\anaconda3\\lib\\site-packages (from notebook>=4.4.1->widgetsnbextension~=3.5.0->ipywidgets>=7.0.0->pydeck>=0.1.dev5->streamlit) (5.5.0)\n",
      "Requirement already satisfied: terminado>=0.8.1 in c:\\users\\sys\\anaconda3\\lib\\site-packages (from notebook>=4.4.1->widgetsnbextension~=3.5.0->ipywidgets>=7.0.0->pydeck>=0.1.dev5->streamlit) (0.8.2)\n",
      "Requirement already satisfied: Send2Trash in c:\\users\\sys\\anaconda3\\lib\\site-packages (from notebook>=4.4.1->widgetsnbextension~=3.5.0->ipywidgets>=7.0.0->pydeck>=0.1.dev5->streamlit) (1.5.0)\n",
      "Requirement already satisfied: pywin32>=1.0; sys_platform == \"win32\" in c:\\users\\sys\\anaconda3\\lib\\site-packages (from jupyter-core->nbformat>=4.2.0->ipywidgets>=7.0.0->pydeck>=0.1.dev5->streamlit) (223)\n",
      "Requirement already satisfied: parso>=0.5.2 in c:\\users\\sys\\anaconda3\\lib\\site-packages (from jedi>=0.10->ipython>=4.0.0; python_version >= \"3.3\"->ipywidgets>=7.0.0->pydeck>=0.1.dev5->streamlit) (0.5.2)\n",
      "Requirement already satisfied: wcwidth in c:\\users\\sys\\anaconda3\\lib\\site-packages (from prompt-toolkit<2.1.0,>=2.0.0->ipython>=4.0.0; python_version >= \"3.3\"->ipywidgets>=7.0.0->pydeck>=0.1.dev5->streamlit) (0.1.7)\n",
      "Requirement already satisfied: pandocfilters>=1.4.1 in c:\\users\\sys\\anaconda3\\lib\\site-packages (from nbconvert->notebook>=4.4.1->widgetsnbextension~=3.5.0->ipywidgets>=7.0.0->pydeck>=0.1.dev5->streamlit) (1.4.2)\n",
      "Requirement already satisfied: mistune>=0.8.1 in c:\\users\\sys\\anaconda3\\lib\\site-packages (from nbconvert->notebook>=4.4.1->widgetsnbextension~=3.5.0->ipywidgets>=7.0.0->pydeck>=0.1.dev5->streamlit) (0.8.4)\n",
      "Requirement already satisfied: testpath in c:\\users\\sys\\anaconda3\\lib\\site-packages (from nbconvert->notebook>=4.4.1->widgetsnbextension~=3.5.0->ipywidgets>=7.0.0->pydeck>=0.1.dev5->streamlit) (0.4.2)\n",
      "Requirement already satisfied: defusedxml in c:\\users\\sys\\anaconda3\\lib\\site-packages (from nbconvert->notebook>=4.4.1->widgetsnbextension~=3.5.0->ipywidgets>=7.0.0->pydeck>=0.1.dev5->streamlit) (0.6.0)\n",
      "Requirement already satisfied: bleach in c:\\users\\sys\\anaconda3\\lib\\site-packages (from nbconvert->notebook>=4.4.1->widgetsnbextension~=3.5.0->ipywidgets>=7.0.0->pydeck>=0.1.dev5->streamlit) (3.1.0)\n",
      "Requirement already satisfied: webencodings in c:\\users\\sys\\anaconda3\\lib\\site-packages (from bleach->nbconvert->notebook>=4.4.1->widgetsnbextension~=3.5.0->ipywidgets>=7.0.0->pydeck>=0.1.dev5->streamlit) (0.5.1)\n",
      "Installing collected packages: base58, altair, toml, validators, pyarrow, pydeck, cachetools, streamlit\n",
      "Successfully installed altair-4.1.0 base58-2.1.0 cachetools-4.2.1 pyarrow-3.0.0 pydeck-0.5.0 streamlit-0.75.0 toml-0.10.2 validators-0.18.2\n",
      "Note: you may need to restart the kernel to use updated packages.\n"
     ]
    },
    {
     "name": "stderr",
     "output_type": "stream",
     "text": [
      "ERROR: pyarrow 3.0.0 has requirement numpy>=1.16.6, but you'll have numpy 1.16.4 which is incompatible.\n"
     ]
    }
   ],
   "source": [
    "pip install streamlit"
   ]
  },
  {
   "cell_type": "code",
   "execution_count": 2,
   "metadata": {},
   "outputs": [
    {
     "name": "stdout",
     "output_type": "stream",
     "text": [
      "Collecting protobuf\n",
      "  Downloading https://files.pythonhosted.org/packages/1d/f4/089025cfa3ee62f89cae73f4d36daf46f339c6df61becfe4b24f3aeb3c0d/protobuf-3.14.0-cp37-cp37m-win_amd64.whl (798kB)\n",
      "Requirement already satisfied, skipping upgrade: six>=1.9 in c:\\users\\sys\\anaconda3\\lib\\site-packages (from protobuf) (1.12.0)\n",
      "Installing collected packages: protobuf\n",
      "  Found existing installation: protobuf 3.8.0\n",
      "    Uninstalling protobuf-3.8.0:\n",
      "      Successfully uninstalled protobuf-3.8.0\n",
      "Successfully installed protobuf-3.14.0\n",
      "Note: you may need to restart the kernel to use updated packages.\n"
     ]
    },
    {
     "name": "stderr",
     "output_type": "stream",
     "text": [
      "ERROR: mysql-connector-python 8.0.19 requires dnspython==1.16.0, which is not installed.\n",
      "ERROR: mysql-connector-python 8.0.19 has requirement protobuf==3.6.1, but you'll have protobuf 3.14.0 which is incompatible.\n"
     ]
    }
   ],
   "source": [
    "pip install --upgrade protobuf"
   ]
  },
  {
   "cell_type": "code",
   "execution_count": 4,
   "metadata": {},
   "outputs": [
    {
     "name": "stderr",
     "output_type": "stream",
     "text": [
      "C:\\Users\\sys\\Anaconda3\\lib\\site-packages\\sklearn\\base.py:306: UserWarning: Trying to unpickle estimator LinearRegression from version 0.21.3 when using version 0.21.2. This might lead to breaking code or invalid results. Use at your own risk.\n",
      "  UserWarning)\n"
     ]
    }
   ],
   "source": [
    "import streamlit as st\n",
    "from sklearn.externals import joblib \n",
    "import pandas as pd\n",
    "import webbrowser\n",
    "\n",
    "\n",
    "model=joblib.load('mileage_model.pkl') \n",
    "st.title(' MILEAGE PREDICTION ')\n",
    "\n",
    "st.write(\"Details Required\")\n",
    "no_cylinder=st.number_input('enter the number of cylinders',1,16)\n",
    "hp=st.number_input('enter the Horsepower',1)\n",
    "acceleration=st.number_input('Time it takes to reach 0-60mph in seconds (Acceleration) ',1.1)\n",
    "model_year=st.number_input('enter the model year',1)\n",
    "if model_year <2000:\n",
    "    model_year=model_year%100\n",
    "else:\n",
    "    model_year=100\n",
    "\n",
    "origin_country = st.selectbox('select the origin of the car',['American','European','Asian'])\n",
    "\n",
    "if(origin_country=='American'):\n",
    "    origin=1\n",
    "elif(origin_country=='European'):\n",
    "    origin=2\n",
    "elif(origin_country=='Asian'):\n",
    "    origin=3\n",
    "\n",
    "displacement=st.number_input('enter the engine displacement in cc',1.1)\n",
    "\n",
    "weight=st.number_input('enter the weight in kg  (1lbs=0.453kg )',1.1)\n",
    "\n",
    "mileage=model.predict([[no_cylinder,hp,acceleration,model_year,origin,displacement,weight]])\n",
    "\n",
    "st.title(f\"\"\" Mileage of the vehicle is\"\"\")\n",
    "st.title(f\"\"\"{round(mileage[0],2)} kmpl \"\"\")\n",
    "\n",
    "st.write(\"    \")\n",
    "st.write(\"    \")\n"
   ]
  },
  {
   "cell_type": "code",
   "execution_count": null,
   "metadata": {},
   "outputs": [],
   "source": []
  }
 ],
 "metadata": {
  "kernelspec": {
   "display_name": "Python 3",
   "language": "python",
   "name": "python3"
  },
  "language_info": {
   "codemirror_mode": {
    "name": "ipython",
    "version": 3
   },
   "file_extension": ".py",
   "mimetype": "text/x-python",
   "name": "python",
   "nbconvert_exporter": "python",
   "pygments_lexer": "ipython3",
   "version": "3.7.3"
  }
 },
 "nbformat": 4,
 "nbformat_minor": 2
}
